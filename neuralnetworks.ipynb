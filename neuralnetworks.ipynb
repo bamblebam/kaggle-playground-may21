{
 "metadata": {
  "language_info": {
   "codemirror_mode": {
    "name": "ipython",
    "version": 3
   },
   "file_extension": ".py",
   "mimetype": "text/x-python",
   "name": "python",
   "nbconvert_exporter": "python",
   "pygments_lexer": "ipython3",
   "version": "3.8.8"
  },
  "orig_nbformat": 2,
  "kernelspec": {
   "name": "python388jvsc74a57bd08f7a9caefe3fbe01c4aa0205e6cc1c36763ed3d41b234746df90d0099aaa4109",
   "display_name": "Python 3.8.8 64-bit ('tf': conda)"
  }
 },
 "nbformat": 4,
 "nbformat_minor": 2,
 "cells": [
  {
   "cell_type": "code",
   "execution_count": 19,
   "metadata": {},
   "outputs": [
    {
     "output_type": "display_data",
     "data": {
      "text/plain": "<Figure size 720x80 with 1 Axes>",
      "image/svg+xml": "<?xml version=\"1.0\" encoding=\"utf-8\" standalone=\"no\"?>\r\n<!DOCTYPE svg PUBLIC \"-//W3C//DTD SVG 1.1//EN\"\r\n  \"http://www.w3.org/Graphics/SVG/1.1/DTD/svg11.dtd\">\r\n<svg height=\"72.26pt\" version=\"1.1\" viewBox=\"0 0 520.1 72.26\" width=\"520.1pt\" xmlns=\"http://www.w3.org/2000/svg\" xmlns:xlink=\"http://www.w3.org/1999/xlink\">\r\n <metadata>\r\n  <rdf:RDF xmlns:cc=\"http://creativecommons.org/ns#\" xmlns:dc=\"http://purl.org/dc/elements/1.1/\" xmlns:rdf=\"http://www.w3.org/1999/02/22-rdf-syntax-ns#\">\r\n   <cc:Work>\r\n    <dc:type rdf:resource=\"http://purl.org/dc/dcmitype/StillImage\"/>\r\n    <dc:date>2021-05-30T23:02:05.018332</dc:date>\r\n    <dc:format>image/svg+xml</dc:format>\r\n    <dc:creator>\r\n     <cc:Agent>\r\n      <dc:title>Matplotlib v3.4.2, https://matplotlib.org/</dc:title>\r\n     </cc:Agent>\r\n    </dc:creator>\r\n   </cc:Work>\r\n  </rdf:RDF>\r\n </metadata>\r\n <defs>\r\n  <style type=\"text/css\">*{stroke-linecap:butt;stroke-linejoin:round;}</style>\r\n </defs>\r\n <g id=\"figure_1\">\r\n  <g id=\"patch_1\">\r\n   <path d=\"M 0 72.26 \r\nL 520.1 72.26 \r\nL 520.1 0 \r\nL 0 0 \r\nz\r\n\" style=\"fill:#2c2c2e;\"/>\r\n  </g>\r\n  <g id=\"axes_1\">\r\n   <g id=\"patch_2\">\r\n    <path d=\"M 10.7 61.56 \r\nL 512.9 61.56 \r\nL 512.9 7.2 \r\nL 10.7 7.2 \r\nz\r\n\" style=\"fill:#2c2c2e;\"/>\r\n   </g>\r\n   <g clip-path=\"url(#p70239b0e2e)\">\r\n    <image height=\"54.9\" id=\"imagefcfc35c3c9\" transform=\"scale(1 -1)translate(0 -54.9)\" width=\"503.1\" x=\"10.7\" xlink:href=\"data:image/png;base64,\r\niVBORw0KGgoAAAANSUhEUgAAAi8AAAA9CAYAAABlVYn9AAABcklEQVR4nO3WoVUCABiFUeCQMJOcAgdhCzew2N2CIGxBZAMHoDEDZpzB9J/vcO8Er71vufl6PBZP6Pf1ZXrCiN3bfnrCiJ+P2/SEEZfteXrCmO/VfXrCiNP1c3rCiPfDcXrCiMP6Ob9sNT0AAOA/xAsAkCJeAIAU8QIApIgXACBFvAAAKeIFAEgRLwBAingBAFLECwCQIl4AgBTxAgCkiBcAIEW8AAAp4gUASBEvAECKeAEAUsQLAJAiXgCAFPECAKSIFwAgRbwAACniBQBIES8AQIp4AQBSxAsAkCJeAIAU8QIApIgXACBFvAAAKeIFAEgRLwBAingBAFLECwCQIl4AgBTxAgCkiBcAIEW8AAAp4gUASBEvAECKeAEAUsQLAJAiXgCAFPECAKSIFwAgRbwAACniBQBIES8AQIp4AQBSxAsAkCJeAIAU8QIApIgXACBFvAAAKeIFAEgRLwBAingBAFLECwCQIl4AgBTxAgCk/AFwbw5YLg9/iwAAAABJRU5ErkJggg==\" y=\"-6.66\"/>\r\n   </g>\r\n   <g id=\"matplotlib.axis_1\">\r\n    <g id=\"xtick_1\">\r\n     <g id=\"line2d_1\">\r\n      <defs>\r\n       <path d=\"M 0 0 \r\nL 0 3.5 \r\n\" id=\"mf5f01c8b66\" style=\"stroke:#e5e5ea;stroke-width:0.8;\"/>\r\n      </defs>\r\n      <g>\r\n       <use style=\"fill:#e5e5ea;stroke:#e5e5ea;stroke-width:0.8;\" x=\"10.7\" xlink:href=\"#mf5f01c8b66\" y=\"61.56\"/>\r\n      </g>\r\n     </g>\r\n    </g>\r\n    <g id=\"xtick_2\">\r\n     <g id=\"line2d_2\">\r\n      <g>\r\n       <use style=\"fill:#e5e5ea;stroke:#e5e5ea;stroke-width:0.8;\" x=\"66.5\" xlink:href=\"#mf5f01c8b66\" y=\"61.56\"/>\r\n      </g>\r\n     </g>\r\n    </g>\r\n    <g id=\"xtick_3\">\r\n     <g id=\"line2d_3\">\r\n      <g>\r\n       <use style=\"fill:#e5e5ea;stroke:#e5e5ea;stroke-width:0.8;\" x=\"122.3\" xlink:href=\"#mf5f01c8b66\" y=\"61.56\"/>\r\n      </g>\r\n     </g>\r\n    </g>\r\n    <g id=\"xtick_4\">\r\n     <g id=\"line2d_4\">\r\n      <g>\r\n       <use style=\"fill:#e5e5ea;stroke:#e5e5ea;stroke-width:0.8;\" x=\"178.1\" xlink:href=\"#mf5f01c8b66\" y=\"61.56\"/>\r\n      </g>\r\n     </g>\r\n    </g>\r\n    <g id=\"xtick_5\">\r\n     <g id=\"line2d_5\">\r\n      <g>\r\n       <use style=\"fill:#e5e5ea;stroke:#e5e5ea;stroke-width:0.8;\" x=\"233.9\" xlink:href=\"#mf5f01c8b66\" y=\"61.56\"/>\r\n      </g>\r\n     </g>\r\n    </g>\r\n    <g id=\"xtick_6\">\r\n     <g id=\"line2d_6\">\r\n      <g>\r\n       <use style=\"fill:#e5e5ea;stroke:#e5e5ea;stroke-width:0.8;\" x=\"289.7\" xlink:href=\"#mf5f01c8b66\" y=\"61.56\"/>\r\n      </g>\r\n     </g>\r\n    </g>\r\n    <g id=\"xtick_7\">\r\n     <g id=\"line2d_7\">\r\n      <g>\r\n       <use style=\"fill:#e5e5ea;stroke:#e5e5ea;stroke-width:0.8;\" x=\"345.5\" xlink:href=\"#mf5f01c8b66\" y=\"61.56\"/>\r\n      </g>\r\n     </g>\r\n    </g>\r\n    <g id=\"xtick_8\">\r\n     <g id=\"line2d_8\">\r\n      <g>\r\n       <use style=\"fill:#e5e5ea;stroke:#e5e5ea;stroke-width:0.8;\" x=\"401.3\" xlink:href=\"#mf5f01c8b66\" y=\"61.56\"/>\r\n      </g>\r\n     </g>\r\n    </g>\r\n    <g id=\"xtick_9\">\r\n     <g id=\"line2d_9\">\r\n      <g>\r\n       <use style=\"fill:#e5e5ea;stroke:#e5e5ea;stroke-width:0.8;\" x=\"457.1\" xlink:href=\"#mf5f01c8b66\" y=\"61.56\"/>\r\n      </g>\r\n     </g>\r\n    </g>\r\n   </g>\r\n   <g id=\"matplotlib.axis_2\"/>\r\n   <g id=\"patch_3\">\r\n    <path d=\"M 10.7 61.56 \r\nL 10.7 7.2 \r\n\" style=\"fill:none;stroke:#2c2c2e;stroke-linecap:square;stroke-linejoin:miter;stroke-width:0.8;\"/>\r\n   </g>\r\n   <g id=\"patch_4\">\r\n    <path d=\"M 10.7 61.56 \r\nL 512.9 61.56 \r\n\" style=\"fill:none;stroke:#2c2c2e;stroke-linecap:square;stroke-linejoin:miter;stroke-width:0.8;\"/>\r\n   </g>\r\n  </g>\r\n </g>\r\n <defs>\r\n  <clipPath id=\"p70239b0e2e\">\r\n   <rect height=\"54.36\" width=\"502.2\" x=\"10.7\" y=\"7.2\"/>\r\n  </clipPath>\r\n </defs>\r\n</svg>\r\n",
      "image/png": "[encoded data removed]"
     },
     "metadata": {}
    }
   ],
   "source": [
    "import numpy as np\n",
    "import matplotlib as mpl\n",
    "import matplotlib.pyplot as plt\n",
    "import seaborn as sns\n",
    "import pandas as pd\n",
    "from cycler import cycler\n",
    "import plotly.graph_objects as go\n",
    "import plotly.express as px\n",
    "\n",
    "from sklearn.preprocessing import LabelEncoder\n",
    "from sklearn.model_selection import train_test_split\n",
    "\n",
    "import tensorflow as tf\n",
    "import tensorboard as tb\n",
    "from tensorflow.keras.layers import Dense,Dropout,BatchNormalization\n",
    "from tensorflow.keras import Sequential\n",
    "from tensorflow.keras.callbacks import EarlyStopping,ModelCheckpoint,ReduceLROnPlateau\n",
    "from tensorflow.data import Dataset\n",
    "\n",
    "%matplotlib inline\n",
    "\n",
    "raw_dark_palette = [\n",
    "    (10, 132, 255), # Blue\n",
    "    (255, 159, 10), # Orange\n",
    "    (48, 209, 88),  # Green\n",
    "    (255, 69, 58),  # Red\n",
    "    (191, 90, 242), # Purple\n",
    "    (94, 92, 230),  # Indigo\n",
    "    (255, 55, 95),  # Pink\n",
    "    (100, 210, 255),# Teal\n",
    "    (255, 214, 10)  # Yellow\n",
    "]\n",
    "raw_darks=[\n",
    "    (44, 44, 46)\n",
    "]\n",
    "raw_lights=[\n",
    "    (229, 229, 234)\n",
    "]\n",
    "miscellaneous={\n",
    "    'blue':'#0f71d4',\n",
    "    'green':'#14b827',\n",
    "    'red':'#cf0c0c'\n",
    "}\n",
    "\n",
    "dark_palette=np.array(raw_dark_palette)/255\n",
    "darks=np.array(raw_darks)/255\n",
    "lights=np.array(raw_lights)/255\n",
    "\n",
    "#rcparams\n",
    "dark_color=darks[-1]\n",
    "light_color=lights[-1]\n",
    "\n",
    "mpl.rcParams['axes.prop_cycle']=cycler('color',dark_palette)\n",
    "mpl.rcParams['figure.facecolor']=dark_color\n",
    "mpl.rcParams['figure.edgecolor']=dark_color\n",
    "mpl.rcParams['axes.facecolor']=dark_color\n",
    "mpl.rcParams['text.color']=light_color\n",
    "mpl.rcParams['axes.labelcolor']=light_color\n",
    "mpl.rcParams['axes.edgecolor']=dark_color\n",
    "mpl.rcParams['xtick.color']=light_color\n",
    "mpl.rcParams['ytick.color']=light_color\n",
    "mpl.rcParams['figure.dpi']=80\n",
    "mpl.rcParams['axes.spines.top'] = False\n",
    "mpl.rcParams['axes.spines.right'] = False\n",
    "\n",
    "sns.palplot(dark_palette)"
   ]
  },
  {
   "cell_type": "code",
   "execution_count": 36,
   "metadata": {},
   "outputs": [
    {
     "output_type": "execute_result",
     "data": {
      "text/plain": [
       "    feature_0  feature_1  feature_2  feature_3  feature_4  feature_5  \\\n",
       "id                                                                     \n",
       "0           0          0          1          0          1          0   \n",
       "1           0          0          0          0          2          1   \n",
       "2           0          0          0          0          0          0   \n",
       "3           0          0          0          0          0          0   \n",
       "4           0          0          0          0          0          0   \n",
       "\n",
       "    feature_6  feature_7  feature_8  feature_9  ...  feature_41  feature_42  \\\n",
       "id                                              ...                           \n",
       "0           0          0          0          0  ...           0           0   \n",
       "1           0          0          0          0  ...           0           0   \n",
       "2           0          0          0          2  ...           0           1   \n",
       "3           0          3          0          0  ...           0           0   \n",
       "4           0          0          0          0  ...           0           0   \n",
       "\n",
       "    feature_43  feature_44  feature_45  feature_46  feature_47  feature_48  \\\n",
       "id                                                                           \n",
       "0           21           0           0           0           0           0   \n",
       "1            0           0           0           0           0           0   \n",
       "2            0           0           0           0          13           2   \n",
       "3            0           0           0           0           0           1   \n",
       "4            0           0           0           0           0           1   \n",
       "\n",
       "    feature_49  target  \n",
       "id                      \n",
       "0            0       1  \n",
       "1            0       0  \n",
       "2            0       0  \n",
       "3            0       3  \n",
       "4            0       1  \n",
       "\n",
       "[5 rows x 51 columns]"
      ],
      "text/html": "<div>\n<style scoped>\n    .dataframe tbody tr th:only-of-type {\n        vertical-align: middle;\n    }\n\n    .dataframe tbody tr th {\n        vertical-align: top;\n    }\n\n    .dataframe thead th {\n        text-align: right;\n    }\n</style>\n<table border=\"1\" class=\"dataframe\">\n  <thead>\n    <tr style=\"text-align: right;\">\n      <th></th>\n      <th>feature_0</th>\n      <th>feature_1</th>\n      <th>feature_2</th>\n      <th>feature_3</th>\n      <th>feature_4</th>\n      <th>feature_5</th>\n      <th>feature_6</th>\n      <th>feature_7</th>\n      <th>feature_8</th>\n      <th>feature_9</th>\n      <th>...</th>\n      <th>feature_41</th>\n      <th>feature_42</th>\n      <th>feature_43</th>\n      <th>feature_44</th>\n      <th>feature_45</th>\n      <th>feature_46</th>\n      <th>feature_47</th>\n      <th>feature_48</th>\n      <th>feature_49</th>\n      <th>target</th>\n    </tr>\n    <tr>\n      <th>id</th>\n      <th></th>\n      <th></th>\n      <th></th>\n      <th></th>\n      <th></th>\n      <th></th>\n      <th></th>\n      <th></th>\n      <th></th>\n      <th></th>\n      <th></th>\n      <th></th>\n      <th></th>\n      <th></th>\n      <th></th>\n      <th></th>\n      <th></th>\n      <th></th>\n      <th></th>\n      <th></th>\n      <th></th>\n    </tr>\n  </thead>\n  <tbody>\n    <tr>\n      <th>0</th>\n      <td>0</td>\n      <td>0</td>\n      <td>1</td>\n      <td>0</td>\n      <td>1</td>\n      <td>0</td>\n      <td>0</td>\n      <td>0</td>\n      <td>0</td>\n      <td>0</td>\n      <td>...</td>\n      <td>0</td>\n      <td>0</td>\n      <td>21</td>\n      <td>0</td>\n      <td>0</td>\n      <td>0</td>\n      <td>0</td>\n      <td>0</td>\n      <td>0</td>\n      <td>1</td>\n    </tr>\n    <tr>\n      <th>1</th>\n      <td>0</td>\n      <td>0</td>\n      <td>0</td>\n      <td>0</td>\n      <td>2</td>\n      <td>1</td>\n      <td>0</td>\n      <td>0</td>\n      <td>0</td>\n      <td>0</td>\n      <td>...</td>\n      <td>0</td>\n      <td>0</td>\n      <td>0</td>\n      <td>0</td>\n      <td>0</td>\n      <td>0</td>\n      <td>0</td>\n      <td>0</td>\n      <td>0</td>\n      <td>0</td>\n    </tr>\n    <tr>\n      <th>2</th>\n      <td>0</td>\n      <td>0</td>\n      <td>0</td>\n      <td>0</td>\n      <td>0</td>\n      <td>0</td>\n      <td>0</td>\n      <td>0</td>\n      <td>0</td>\n      <td>2</td>\n      <td>...</td>\n      <td>0</td>\n      <td>1</td>\n      <td>0</td>\n      <td>0</td>\n      <td>0</td>\n      <td>0</td>\n      <td>13</td>\n      <td>2</td>\n      <td>0</td>\n      <td>0</td>\n    </tr>\n    <tr>\n      <th>3</th>\n      <td>0</td>\n      <td>0</td>\n      <td>0</td>\n      <td>0</td>\n      <td>0</td>\n      <td>0</td>\n      <td>0</td>\n      <td>3</td>\n      <td>0</td>\n      <td>0</td>\n      <td>...</td>\n      <td>0</td>\n      <td>0</td>\n      <td>0</td>\n      <td>0</td>\n      <td>0</td>\n      <td>0</td>\n      <td>0</td>\n      <td>1</td>\n      <td>0</td>\n      <td>3</td>\n    </tr>\n    <tr>\n      <th>4</th>\n      <td>0</td>\n      <td>0</td>\n      <td>0</td>\n      <td>0</td>\n      <td>0</td>\n      <td>0</td>\n      <td>0</td>\n      <td>0</td>\n      <td>0</td>\n      <td>0</td>\n      <td>...</td>\n      <td>0</td>\n      <td>0</td>\n      <td>0</td>\n      <td>0</td>\n      <td>0</td>\n      <td>0</td>\n      <td>0</td>\n      <td>1</td>\n      <td>0</td>\n      <td>1</td>\n    </tr>\n  </tbody>\n</table>\n<p>5 rows × 51 columns</p>\n</div>"
     },
     "metadata": {},
     "execution_count": 36
    }
   ],
   "source": [
    "train=pd.read_csv('data/train.csv',index_col=[0])\n",
    "test=pd.read_csv('data/test.csv',index_col=[0])\n",
    "train['target']=train['target'].str.slice(start=6).astype(int)-1\n",
    "smote_train=pd.read_csv('data/smote_train.csv')\n",
    "train.head()"
   ]
  },
  {
   "cell_type": "code",
   "execution_count": 37,
   "metadata": {},
   "outputs": [],
   "source": [
    "train,val=train_test_split(train,test_size=0.2)\n",
    "sm_train,sm_val=train_test_split(smote_train,test_size=0.2)"
   ]
  },
  {
   "cell_type": "code",
   "execution_count": 38,
   "metadata": {},
   "outputs": [],
   "source": [
    "train_target=train.pop('target')\n",
    "val_target=val.pop('target')\n",
    "train=Dataset.from_tensor_slices((train.values,train_target.values))\n",
    "val=Dataset.from_tensor_slices((val.values,val_target.values))"
   ]
  },
  {
   "cell_type": "code",
   "execution_count": 40,
   "metadata": {},
   "outputs": [],
   "source": [
    "sm_train_target=sm_train.pop('target')\n",
    "sm_val_target=sm_val.pop('target')\n",
    "sm_train=Dataset.from_tensor_slices((sm_train.values,sm_train_target.values))\n",
    "sm_val=Dataset.from_tensor_slices((sm_val.values,sm_val_target.values))"
   ]
  },
  {
   "cell_type": "code",
   "execution_count": 5,
   "metadata": {},
   "outputs": [],
   "source": [
    "BATCH_SIZE=32\n",
    "BUFFER_SIZE=10000\n",
    "EPOCHS=100"
   ]
  },
  {
   "cell_type": "code",
   "execution_count": 41,
   "metadata": {},
   "outputs": [],
   "source": [
    "train=train.shuffle(BUFFER_SIZE).batch(BATCH_SIZE).prefetch(1)\n",
    "val=val.shuffle(BUFFER_SIZE).batch(BATCH_SIZE).prefetch(1)"
   ]
  },
  {
   "cell_type": "code",
   "execution_count": 42,
   "metadata": {},
   "outputs": [],
   "source": [
    "sm_train=sm_train.shuffle(BUFFER_SIZE).batch(BATCH_SIZE).prefetch(1)\n",
    "sm_val=sm_val.shuffle(BUFFER_SIZE).batch(BATCH_SIZE).prefetch(1)"
   ]
  },
  {
   "cell_type": "code",
   "execution_count": 44,
   "metadata": {},
   "outputs": [],
   "source": [
    "def create_model():\n",
    "    model=Sequential([\n",
    "        Dense(256,activation='relu'),\n",
    "        Dense(256,activation='relu'),\n",
    "        Dropout(0.15),\n",
    "        Dense(128,activation='relu'),\n",
    "        Dense(128,activation='relu'),\n",
    "        BatchNormalization(),\n",
    "        Dense(64,activation='relu'),\n",
    "        Dense(64,activation='relu'),\n",
    "        Dropout(0.15),\n",
    "        Dense(32,activation='relu'),\n",
    "        Dense(32,activation='relu'),\n",
    "        BatchNormalization(),\n",
    "        Dense(16,activation='relu'),\n",
    "        Dense(16,activation='relu'),\n",
    "        Dropout(0.15),\n",
    "        Dense(4,activation='softmax'),\n",
    "    ])\n",
    "    model.compile(optimizer='adam',loss='sparse_categorical_crossentropy')\n",
    "    return model"
   ]
  },
  {
   "cell_type": "code",
   "execution_count": 45,
   "metadata": {},
   "outputs": [],
   "source": [
    "model_checkpoint=ModelCheckpoint('models/model2.h5',save_best_only=True,monitor='val_loss')\n",
    "early_stopping=EarlyStopping(monitor='val_loss',patience=5,restore_best_weights=True)\n",
    "reduce_lr=ReduceLROnPlateau(monitor='val_loss',patience=3)"
   ]
  },
  {
   "cell_type": "code",
   "execution_count": 46,
   "metadata": {},
   "outputs": [
    {
     "output_type": "stream",
     "name": "stdout",
     "text": [
      "Epoch 1/100\n",
      "5750/5750 [==============================] - 41s 7ms/step - loss: 1.3387 - val_loss: 1.2796\n",
      "Epoch 2/100\n",
      "5750/5750 [==============================] - 41s 7ms/step - loss: 1.2936 - val_loss: 1.2788\n",
      "Epoch 3/100\n",
      "5750/5750 [==============================] - 39s 7ms/step - loss: 1.2861 - val_loss: 1.2778\n",
      "Epoch 4/100\n",
      "5750/5750 [==============================] - 35s 6ms/step - loss: 1.2787 - val_loss: 1.2676\n",
      "Epoch 5/100\n",
      "5750/5750 [==============================] - 38s 7ms/step - loss: 1.2749 - val_loss: 1.2770\n",
      "Epoch 6/100\n",
      "5750/5750 [==============================] - 37s 7ms/step - loss: 1.2704 - val_loss: 1.2658\n",
      "Epoch 7/100\n",
      "5750/5750 [==============================] - 36s 6ms/step - loss: 1.2651 - val_loss: 1.2614\n",
      "Epoch 8/100\n",
      "5750/5750 [==============================] - 35s 6ms/step - loss: 1.2608 - val_loss: 1.2578\n",
      "Epoch 9/100\n",
      "5750/5750 [==============================] - 35s 6ms/step - loss: 1.2540 - val_loss: 1.2554\n",
      "Epoch 10/100\n",
      "5750/5750 [==============================] - 35s 6ms/step - loss: 1.2463 - val_loss: 1.2496\n",
      "Epoch 11/100\n",
      "5750/5750 [==============================] - 35s 6ms/step - loss: 1.2386 - val_loss: 1.2459\n",
      "Epoch 12/100\n",
      "5750/5750 [==============================] - 35s 6ms/step - loss: 1.2289 - val_loss: 1.2331\n",
      "Epoch 13/100\n",
      "5750/5750 [==============================] - 35s 6ms/step - loss: 1.2179 - val_loss: 1.2352\n",
      "Epoch 14/100\n",
      "5750/5750 [==============================] - 35s 6ms/step - loss: 1.2029 - val_loss: 1.2131\n",
      "Epoch 15/100\n",
      "5750/5750 [==============================] - 35s 6ms/step - loss: 1.1886 - val_loss: 1.2044\n",
      "Epoch 16/100\n",
      "5750/5750 [==============================] - 35s 6ms/step - loss: 1.1705 - val_loss: 1.1965\n",
      "Epoch 17/100\n",
      "5750/5750 [==============================] - 35s 6ms/step - loss: 1.1530 - val_loss: 1.1761\n",
      "Epoch 18/100\n",
      "5750/5750 [==============================] - 38s 7ms/step - loss: 1.1369 - val_loss: 1.1665\n",
      "Epoch 19/100\n",
      "5750/5750 [==============================] - 37s 6ms/step - loss: 1.1190 - val_loss: 1.1596\n",
      "Epoch 20/100\n",
      "5750/5750 [==============================] - 37s 6ms/step - loss: 1.1029 - val_loss: 1.1434\n",
      "Epoch 21/100\n",
      "5750/5750 [==============================] - 37s 6ms/step - loss: 1.0871 - val_loss: 1.1340\n",
      "Epoch 22/100\n",
      "5750/5750 [==============================] - 38s 7ms/step - loss: 1.0711 - val_loss: 1.1292\n",
      "Epoch 23/100\n",
      "5750/5750 [==============================] - 38s 7ms/step - loss: 1.0542 - val_loss: 1.1275\n",
      "Epoch 24/100\n",
      "5750/5750 [==============================] - 38s 7ms/step - loss: 1.0450 - val_loss: 1.1118\n",
      "Epoch 25/100\n",
      "5750/5750 [==============================] - 37s 6ms/step - loss: 1.0340 - val_loss: 1.1095\n",
      "Epoch 26/100\n",
      "5750/5750 [==============================] - 36s 6ms/step - loss: 1.0173 - val_loss: 1.0999\n",
      "Epoch 27/100\n",
      "5750/5750 [==============================] - 37s 6ms/step - loss: 1.0098 - val_loss: 1.0953\n",
      "Epoch 28/100\n",
      "5750/5750 [==============================] - 38s 7ms/step - loss: 0.9980 - val_loss: 1.0902\n",
      "Epoch 29/100\n",
      "5750/5750 [==============================] - 36s 6ms/step - loss: 0.9899 - val_loss: 1.0838\n",
      "Epoch 30/100\n",
      "5750/5750 [==============================] - 35s 6ms/step - loss: 0.9782 - val_loss: 1.0793\n",
      "Epoch 31/100\n",
      "5750/5750 [==============================] - 36s 6ms/step - loss: 0.9707 - val_loss: 1.0798\n",
      "Epoch 32/100\n",
      "5750/5750 [==============================] - 38s 7ms/step - loss: 0.9613 - val_loss: 1.0725\n",
      "Epoch 33/100\n",
      "5750/5750 [==============================] - 37s 6ms/step - loss: 0.9520 - val_loss: 1.0642\n",
      "Epoch 34/100\n",
      "5750/5750 [==============================] - 37s 6ms/step - loss: 0.9439 - val_loss: 1.0638\n",
      "Epoch 35/100\n",
      "5750/5750 [==============================] - 37s 6ms/step - loss: 0.9357 - val_loss: 1.0709\n",
      "Epoch 36/100\n",
      "5750/5750 [==============================] - 38s 7ms/step - loss: 0.9301 - val_loss: 1.0557\n",
      "Epoch 37/100\n",
      "5750/5750 [==============================] - 36s 6ms/step - loss: 0.9203 - val_loss: 1.0514\n",
      "Epoch 38/100\n",
      "5750/5750 [==============================] - 38s 7ms/step - loss: 0.9151 - val_loss: 1.0466\n",
      "Epoch 39/100\n",
      "5750/5750 [==============================] - 38s 7ms/step - loss: 0.9054 - val_loss: 1.0452\n",
      "Epoch 40/100\n",
      "5750/5750 [==============================] - 37s 6ms/step - loss: 0.8992 - val_loss: 1.0413\n",
      "Epoch 41/100\n",
      "5750/5750 [==============================] - 36s 6ms/step - loss: 0.8951 - val_loss: 1.0447\n",
      "Epoch 42/100\n",
      "5750/5750 [==============================] - 36s 6ms/step - loss: 0.8985 - val_loss: 1.0284\n",
      "Epoch 43/100\n",
      "5750/5750 [==============================] - 36s 6ms/step - loss: 0.8846 - val_loss: 1.0327\n",
      "Epoch 44/100\n",
      "5750/5750 [==============================] - 36s 6ms/step - loss: 0.8811 - val_loss: 1.0279\n",
      "Epoch 45/100\n",
      "5750/5750 [==============================] - 37s 7ms/step - loss: 0.8724 - val_loss: 1.0260\n",
      "Epoch 46/100\n",
      "5750/5750 [==============================] - 38s 7ms/step - loss: 0.8656 - val_loss: 1.0435\n",
      "Epoch 47/100\n",
      "5750/5750 [==============================] - 36s 6ms/step - loss: 0.8622 - val_loss: 1.0272\n",
      "Epoch 48/100\n",
      "5750/5750 [==============================] - 39s 7ms/step - loss: 0.8548 - val_loss: 1.0342\n",
      "Epoch 49/100\n",
      "5750/5750 [==============================] - 38s 7ms/step - loss: 0.8266 - val_loss: 1.0164\n",
      "Epoch 50/100\n",
      "5750/5750 [==============================] - 38s 7ms/step - loss: 0.7957 - val_loss: 1.0128\n",
      "Epoch 51/100\n",
      "5750/5750 [==============================] - 44s 8ms/step - loss: 0.7799 - val_loss: 1.0095\n",
      "Epoch 52/100\n",
      "5750/5750 [==============================] - 43s 7ms/step - loss: 0.7691 - val_loss: 1.0103\n",
      "Epoch 53/100\n",
      "5750/5750 [==============================] - 39s 7ms/step - loss: 0.7646 - val_loss: 1.0100\n",
      "Epoch 54/100\n",
      "5750/5750 [==============================] - 36s 6ms/step - loss: 0.7569 - val_loss: 1.0095\n",
      "Epoch 55/100\n",
      "5750/5750 [==============================] - 37s 7ms/step - loss: 0.7524 - val_loss: 1.0062\n",
      "Epoch 56/100\n",
      "5750/5750 [==============================] - 41s 7ms/step - loss: 0.7482 - val_loss: 1.0066\n",
      "Epoch 57/100\n",
      "5750/5750 [==============================] - 41s 7ms/step - loss: 0.7479 - val_loss: 1.0052\n",
      "Epoch 58/100\n",
      "5750/5750 [==============================] - 38s 7ms/step - loss: 0.7485 - val_loss: 1.0042\n",
      "Epoch 59/100\n",
      "5750/5750 [==============================] - 41s 7ms/step - loss: 0.7436 - val_loss: 1.0049\n",
      "Epoch 60/100\n",
      "5750/5750 [==============================] - 37s 6ms/step - loss: 0.7430 - val_loss: 1.0056\n",
      "Epoch 61/100\n",
      "5750/5750 [==============================] - 38s 7ms/step - loss: 0.7453 - val_loss: 1.0061\n",
      "Epoch 62/100\n",
      "5750/5750 [==============================] - 40s 7ms/step - loss: 0.7427 - val_loss: 1.0053\n",
      "Epoch 63/100\n",
      "5750/5750 [==============================] - 39s 7ms/step - loss: 0.7424 - val_loss: 1.0062\n"
     ]
    }
   ],
   "source": [
    "model1=create_model()\n",
    "history=model1.fit(sm_train,validation_data=sm_val,epochs=EPOCHS,batch_size=BATCH_SIZE,callbacks=[model_checkpoint,early_stopping,reduce_lr])"
   ]
  },
  {
   "cell_type": "code",
   "execution_count": 47,
   "metadata": {},
   "outputs": [],
   "source": [
    "model1_pred=model1.predict(test)"
   ]
  },
  {
   "cell_type": "code",
   "execution_count": 48,
   "metadata": {},
   "outputs": [
    {
     "output_type": "stream",
     "name": "stdout",
     "text": [
      "[[0.0073011  0.47090122 0.41556835 0.10622925]\n [0.03149033 0.63126093 0.22838666 0.10886206]\n [0.00832756 0.5183294  0.39607    0.07727304]\n [0.0015138  0.1339603  0.14904037 0.7154856 ]\n [0.03727353 0.576614   0.24154754 0.14456493]]\n"
     ]
    }
   ],
   "source": [
    "print(model1_pred[:5])"
   ]
  },
  {
   "cell_type": "code",
   "execution_count": 49,
   "metadata": {},
   "outputs": [],
   "source": [
    "sub=pd.read_csv('data/sample_submission.csv')\n",
    "sub.iloc[:,1:]=model1_pred\n",
    "sub.to_csv('submissions/sub10n.csv',index=False)"
   ]
  }
 ]
}