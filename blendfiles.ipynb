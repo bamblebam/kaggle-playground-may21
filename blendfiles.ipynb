{
 "metadata": {
  "language_info": {
   "codemirror_mode": {
    "name": "ipython",
    "version": 3
   },
   "file_extension": ".py",
   "mimetype": "text/x-python",
   "name": "python",
   "nbconvert_exporter": "python",
   "pygments_lexer": "ipython3",
   "version": "3.8.8"
  },
  "orig_nbformat": 2,
  "kernelspec": {
   "name": "python388jvsc74a57bd08f7a9caefe3fbe01c4aa0205e6cc1c36763ed3d41b234746df90d0099aaa4109",
   "display_name": "Python 3.8.8 64-bit ('tf': conda)"
  }
 },
 "nbformat": 4,
 "nbformat_minor": 2,
 "cells": [
  {
   "cell_type": "code",
   "execution_count": 1,
   "metadata": {},
   "outputs": [
    {
     "output_type": "display_data",
     "data": {
      "text/plain": "<Figure size 720x80 with 1 Axes>",
      "image/svg+xml": "<?xml version=\"1.0\" encoding=\"utf-8\" standalone=\"no\"?>\r\n<!DOCTYPE svg PUBLIC \"-//W3C//DTD SVG 1.1//EN\"\r\n  \"http://www.w3.org/Graphics/SVG/1.1/DTD/svg11.dtd\">\r\n<svg height=\"72.26pt\" version=\"1.1\" viewBox=\"0 0 520.1 72.26\" width=\"520.1pt\" xmlns=\"http://www.w3.org/2000/svg\" xmlns:xlink=\"http://www.w3.org/1999/xlink\">\r\n <metadata>\r\n  <rdf:RDF xmlns:cc=\"http://creativecommons.org/ns#\" xmlns:dc=\"http://purl.org/dc/elements/1.1/\" xmlns:rdf=\"http://www.w3.org/1999/02/22-rdf-syntax-ns#\">\r\n   <cc:Work>\r\n    <dc:type rdf:resource=\"http://purl.org/dc/dcmitype/StillImage\"/>\r\n    <dc:date>2021-05-31T16:09:03.521092</dc:date>\r\n    <dc:format>image/svg+xml</dc:format>\r\n    <dc:creator>\r\n     <cc:Agent>\r\n      <dc:title>Matplotlib v3.4.2, https://matplotlib.org/</dc:title>\r\n     </cc:Agent>\r\n    </dc:creator>\r\n   </cc:Work>\r\n  </rdf:RDF>\r\n </metadata>\r\n <defs>\r\n  <style type=\"text/css\">*{stroke-linecap:butt;stroke-linejoin:round;}</style>\r\n </defs>\r\n <g id=\"figure_1\">\r\n  <g id=\"patch_1\">\r\n   <path d=\"M 0 72.26 \r\nL 520.1 72.26 \r\nL 520.1 0 \r\nL 0 0 \r\nz\r\n\" style=\"fill:#2c2c2e;\"/>\r\n  </g>\r\n  <g id=\"axes_1\">\r\n   <g id=\"patch_2\">\r\n    <path d=\"M 10.7 61.56 \r\nL 512.9 61.56 \r\nL 512.9 7.2 \r\nL 10.7 7.2 \r\nz\r\n\" style=\"fill:#2c2c2e;\"/>\r\n   </g>\r\n   <g clip-path=\"url(#p6729a005f5)\">\r\n    <image height=\"54.9\" id=\"image7f31a13235\" transform=\"scale(1 -1)translate(0 -54.9)\" width=\"503.1\" x=\"10.7\" xlink:href=\"data:image/png;base64,\r\niVBORw0KGgoAAAANSUhEUgAAAi8AAAA9CAYAAABlVYn9AAABcklEQVR4nO3WoVUCABiFUeCQMJOcAgdhCzew2N2CIGxBZAMHoDEDZpzB9J/vcO8Er71vufl6PBZP6Pf1ZXrCiN3bfnrCiJ+P2/SEEZfteXrCmO/VfXrCiNP1c3rCiPfDcXrCiMP6Ob9sNT0AAOA/xAsAkCJeAIAU8QIApIgXACBFvAAAKeIFAEgRLwBAingBAFLECwCQIl4AgBTxAgCkiBcAIEW8AAAp4gUASBEvAECKeAEAUsQLAJAiXgCAFPECAKSIFwAgRbwAACniBQBIES8AQIp4AQBSxAsAkCJeAIAU8QIApIgXACBFvAAAKeIFAEgRLwBAingBAFLECwCQIl4AgBTxAgCkiBcAIEW8AAAp4gUASBEvAECKeAEAUsQLAJAiXgCAFPECAKSIFwAgRbwAACniBQBIES8AQIp4AQBSxAsAkCJeAIAU8QIApIgXACBFvAAAKeIFAEgRLwBAingBAFLECwCQIl4AgBTxAgCk/AFwbw5YLg9/iwAAAABJRU5ErkJggg==\" y=\"-6.66\"/>\r\n   </g>\r\n   <g id=\"matplotlib.axis_1\">\r\n    <g id=\"xtick_1\">\r\n     <g id=\"line2d_1\">\r\n      <defs>\r\n       <path d=\"M 0 0 \r\nL 0 3.5 \r\n\" id=\"m6af85967e2\" style=\"stroke:#e5e5ea;stroke-width:0.8;\"/>\r\n      </defs>\r\n      <g>\r\n       <use style=\"fill:#e5e5ea;stroke:#e5e5ea;stroke-width:0.8;\" x=\"10.7\" xlink:href=\"#m6af85967e2\" y=\"61.56\"/>\r\n      </g>\r\n     </g>\r\n    </g>\r\n    <g id=\"xtick_2\">\r\n     <g id=\"line2d_2\">\r\n      <g>\r\n       <use style=\"fill:#e5e5ea;stroke:#e5e5ea;stroke-width:0.8;\" x=\"66.5\" xlink:href=\"#m6af85967e2\" y=\"61.56\"/>\r\n      </g>\r\n     </g>\r\n    </g>\r\n    <g id=\"xtick_3\">\r\n     <g id=\"line2d_3\">\r\n      <g>\r\n       <use style=\"fill:#e5e5ea;stroke:#e5e5ea;stroke-width:0.8;\" x=\"122.3\" xlink:href=\"#m6af85967e2\" y=\"61.56\"/>\r\n      </g>\r\n     </g>\r\n    </g>\r\n    <g id=\"xtick_4\">\r\n     <g id=\"line2d_4\">\r\n      <g>\r\n       <use style=\"fill:#e5e5ea;stroke:#e5e5ea;stroke-width:0.8;\" x=\"178.1\" xlink:href=\"#m6af85967e2\" y=\"61.56\"/>\r\n      </g>\r\n     </g>\r\n    </g>\r\n    <g id=\"xtick_5\">\r\n     <g id=\"line2d_5\">\r\n      <g>\r\n       <use style=\"fill:#e5e5ea;stroke:#e5e5ea;stroke-width:0.8;\" x=\"233.9\" xlink:href=\"#m6af85967e2\" y=\"61.56\"/>\r\n      </g>\r\n     </g>\r\n    </g>\r\n    <g id=\"xtick_6\">\r\n     <g id=\"line2d_6\">\r\n      <g>\r\n       <use style=\"fill:#e5e5ea;stroke:#e5e5ea;stroke-width:0.8;\" x=\"289.7\" xlink:href=\"#m6af85967e2\" y=\"61.56\"/>\r\n      </g>\r\n     </g>\r\n    </g>\r\n    <g id=\"xtick_7\">\r\n     <g id=\"line2d_7\">\r\n      <g>\r\n       <use style=\"fill:#e5e5ea;stroke:#e5e5ea;stroke-width:0.8;\" x=\"345.5\" xlink:href=\"#m6af85967e2\" y=\"61.56\"/>\r\n      </g>\r\n     </g>\r\n    </g>\r\n    <g id=\"xtick_8\">\r\n     <g id=\"line2d_8\">\r\n      <g>\r\n       <use style=\"fill:#e5e5ea;stroke:#e5e5ea;stroke-width:0.8;\" x=\"401.3\" xlink:href=\"#m6af85967e2\" y=\"61.56\"/>\r\n      </g>\r\n     </g>\r\n    </g>\r\n    <g id=\"xtick_9\">\r\n     <g id=\"line2d_9\">\r\n      <g>\r\n       <use style=\"fill:#e5e5ea;stroke:#e5e5ea;stroke-width:0.8;\" x=\"457.1\" xlink:href=\"#m6af85967e2\" y=\"61.56\"/>\r\n      </g>\r\n     </g>\r\n    </g>\r\n   </g>\r\n   <g id=\"matplotlib.axis_2\"/>\r\n   <g id=\"patch_3\">\r\n    <path d=\"M 10.7 61.56 \r\nL 10.7 7.2 \r\n\" style=\"fill:none;stroke:#2c2c2e;stroke-linecap:square;stroke-linejoin:miter;stroke-width:0.8;\"/>\r\n   </g>\r\n   <g id=\"patch_4\">\r\n    <path d=\"M 10.7 61.56 \r\nL 512.9 61.56 \r\n\" style=\"fill:none;stroke:#2c2c2e;stroke-linecap:square;stroke-linejoin:miter;stroke-width:0.8;\"/>\r\n   </g>\r\n  </g>\r\n </g>\r\n <defs>\r\n  <clipPath id=\"p6729a005f5\">\r\n   <rect height=\"54.36\" width=\"502.2\" x=\"10.7\" y=\"7.2\"/>\r\n  </clipPath>\r\n </defs>\r\n</svg>\r\n",
      "image/png": "[encoded data removed]"
     },
     "metadata": {}
    }
   ],
   "source": [
    "import numpy as np\n",
    "import matplotlib as mpl\n",
    "import matplotlib.pyplot as plt\n",
    "import seaborn as sns\n",
    "import pandas as pd\n",
    "from cycler import cycler\n",
    "import plotly.graph_objects as go\n",
    "import plotly.express as px\n",
    "\n",
    "%matplotlib inline\n",
    "\n",
    "raw_dark_palette = [\n",
    "    (10, 132, 255), # Blue\n",
    "    (255, 159, 10), # Orange\n",
    "    (48, 209, 88),  # Green\n",
    "    (255, 69, 58),  # Red\n",
    "    (191, 90, 242), # Purple\n",
    "    (94, 92, 230),  # Indigo\n",
    "    (255, 55, 95),  # Pink\n",
    "    (100, 210, 255),# Teal\n",
    "    (255, 214, 10)  # Yellow\n",
    "]\n",
    "raw_darks=[\n",
    "    (44, 44, 46)\n",
    "]\n",
    "raw_lights=[\n",
    "    (229, 229, 234)\n",
    "]\n",
    "miscellaneous={\n",
    "    'blue':'#0f71d4',\n",
    "    'green':'#14b827',\n",
    "    'red':'#cf0c0c'\n",
    "}\n",
    "\n",
    "dark_palette=np.array(raw_dark_palette)/255\n",
    "darks=np.array(raw_darks)/255\n",
    "lights=np.array(raw_lights)/255\n",
    "\n",
    "#rcparams\n",
    "dark_color=darks[-1]\n",
    "light_color=lights[-1]\n",
    "\n",
    "mpl.rcParams['axes.prop_cycle']=cycler('color',dark_palette)\n",
    "mpl.rcParams['figure.facecolor']=dark_color\n",
    "mpl.rcParams['figure.edgecolor']=dark_color\n",
    "mpl.rcParams['axes.facecolor']=dark_color\n",
    "mpl.rcParams['text.color']=light_color\n",
    "mpl.rcParams['axes.labelcolor']=light_color\n",
    "mpl.rcParams['axes.edgecolor']=dark_color\n",
    "mpl.rcParams['xtick.color']=light_color\n",
    "mpl.rcParams['ytick.color']=light_color\n",
    "mpl.rcParams['figure.dpi']=80\n",
    "mpl.rcParams['axes.spines.top'] = False\n",
    "mpl.rcParams['axes.spines.right'] = False\n",
    "\n",
    "sns.palplot(dark_palette)"
   ]
  },
  {
   "cell_type": "code",
   "execution_count": 7,
   "metadata": {},
   "outputs": [],
   "source": [
    "sub1=pd.read_csv('blend_files/sub1_1.08543.csv')\n",
    "sub2=pd.read_csv('blend_files/sub2_1.08590.csv')\n",
    "sub3=pd.read_csv('blend_files/sub5_1.10_tf.csv')\n",
    "sub4=pd.read_csv('blend_files/sub6_1.0518.csv')\n",
    "sub5=pd.read_csv('blend_files/sub7_nb.csv')"
   ]
  },
  {
   "cell_type": "code",
   "execution_count": 9,
   "metadata": {},
   "outputs": [],
   "source": [
    "cols=['Class_1','Class_2','Class_3','Class_4']\n",
    "output=pd.read_csv('data/sample_submission.csv')"
   ]
  },
  {
   "cell_type": "code",
   "execution_count": 5,
   "metadata": {},
   "outputs": [],
   "source": [
    "for col in cols:\n",
    "    output[col]=sub1[col]*0.6+sub2[col]*0.4"
   ]
  },
  {
   "cell_type": "code",
   "execution_count": 5,
   "metadata": {},
   "outputs": [],
   "source": [
    "for col in cols:\n",
    "    output[col]=sub1[col]*0.99"
   ]
  },
  {
   "cell_type": "code",
   "execution_count": 13,
   "metadata": {},
   "outputs": [],
   "source": [
    "for col in cols:\n",
    "    output[col]=sub5[col]*0.9"
   ]
  },
  {
   "cell_type": "code",
   "execution_count": 15,
   "metadata": {},
   "outputs": [
    {
     "output_type": "execute_result",
     "data": {
      "text/plain": [
       "       id   Class_1   Class_2   Class_3   Class_4\n",
       "0  100000  0.081854  0.561093  0.151318  0.105735\n",
       "1  100001  0.079906  0.623101  0.122244  0.075130\n",
       "2  100002  0.075483  0.583182  0.153440  0.087894\n",
       "3  100003  0.080090  0.483148  0.248487  0.088390\n",
       "4  100004  0.070223  0.568530  0.163688  0.097743"
      ],
      "text/html": "<div>\n<style scoped>\n    .dataframe tbody tr th:only-of-type {\n        vertical-align: middle;\n    }\n\n    .dataframe tbody tr th {\n        vertical-align: top;\n    }\n\n    .dataframe thead th {\n        text-align: right;\n    }\n</style>\n<table border=\"1\" class=\"dataframe\">\n  <thead>\n    <tr style=\"text-align: right;\">\n      <th></th>\n      <th>id</th>\n      <th>Class_1</th>\n      <th>Class_2</th>\n      <th>Class_3</th>\n      <th>Class_4</th>\n    </tr>\n  </thead>\n  <tbody>\n    <tr>\n      <th>0</th>\n      <td>100000</td>\n      <td>0.081854</td>\n      <td>0.561093</td>\n      <td>0.151318</td>\n      <td>0.105735</td>\n    </tr>\n    <tr>\n      <th>1</th>\n      <td>100001</td>\n      <td>0.079906</td>\n      <td>0.623101</td>\n      <td>0.122244</td>\n      <td>0.075130</td>\n    </tr>\n    <tr>\n      <th>2</th>\n      <td>100002</td>\n      <td>0.075483</td>\n      <td>0.583182</td>\n      <td>0.153440</td>\n      <td>0.087894</td>\n    </tr>\n    <tr>\n      <th>3</th>\n      <td>100003</td>\n      <td>0.080090</td>\n      <td>0.483148</td>\n      <td>0.248487</td>\n      <td>0.088390</td>\n    </tr>\n    <tr>\n      <th>4</th>\n      <td>100004</td>\n      <td>0.070223</td>\n      <td>0.568530</td>\n      <td>0.163688</td>\n      <td>0.097743</td>\n    </tr>\n  </tbody>\n</table>\n</div>"
     },
     "metadata": {},
     "execution_count": 15
    }
   ],
   "source": [
    "output.head()"
   ]
  },
  {
   "cell_type": "code",
   "execution_count": 14,
   "metadata": {},
   "outputs": [],
   "source": [
    "output.to_csv('submissions/sub13.csv',index=False)"
   ]
  },
  {
   "cell_type": "code",
   "execution_count": 18,
   "metadata": {},
   "outputs": [],
   "source": [
    "def blend_submission(name,files,fracs):\n",
    "    output=pd.read_csv('data/sample_submission.csv')\n",
    "    output['Class_1']=0.0\n",
    "    output['Class_2']=0.0\n",
    "    output['Class_3']=0.0\n",
    "    output['Class_4']=0.0\n",
    "    for file,frac in zip(files,fracs):\n",
    "        output['Class_1']+=frac*file['Class_1']\n",
    "        output['Class_2']+=frac*file['Class_2']\n",
    "        output['Class_3']+=frac*file['Class_3']\n",
    "        output['Class_4']+=frac*file['Class_4']\n",
    "    output.to_csv(f'submissions/{name}.csv',index=False)"
   ]
  },
  {
   "cell_type": "code",
   "execution_count": 26,
   "metadata": {},
   "outputs": [],
   "source": [
    "files=[sub5,sub4]\n",
    "fracs=[0.6,0.5]"
   ]
  },
  {
   "cell_type": "code",
   "execution_count": 27,
   "metadata": {},
   "outputs": [],
   "source": [
    "blend_submission('sub16',files,fracs)"
   ]
  }
 ]
}